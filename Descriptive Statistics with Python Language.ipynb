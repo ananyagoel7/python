{
 "cells": [
  {
   "cell_type": "code",
   "execution_count": 1,
   "id": "fcff3359",
   "metadata": {},
   "outputs": [],
   "source": [
    "import numpy as np\n",
    "import pandas as pd\n",
    "import matplotlib.pyplot as plt\n",
    "import seaborn as sns"
   ]
  },
  {
   "cell_type": "code",
   "execution_count": 2,
   "id": "e2393fe6",
   "metadata": {},
   "outputs": [
    {
     "data": {
      "text/plain": [
       "(85.0, 0.0)"
      ]
     },
     "execution_count": 2,
     "metadata": {},
     "output_type": "execute_result"
    }
   ],
   "source": [
    "# Ans-1\n",
    "\n",
    "# Create an array of 10 scores, each with a value of 85\n",
    "scores = np.array([85] * 10)\n",
    "\n",
    "# Calculate the mean of the scores\n",
    "mean_score = np.mean(scores)\n",
    "\n",
    "# Calculate the variance of the scores\n",
    "variance_score = np.var(scores)\n",
    "\n",
    "# Print the mean and variance\n",
    "(mean_score, variance_score)\n"
   ]
  },
  {
   "cell_type": "markdown",
   "id": "3fe7f27c",
   "metadata": {},
   "source": [
    "* In conclusion, all the students have received same marks because mean of a group of learners is 85 and the variance is zero which means there is no variation in their scores and they all scored 85. "
   ]
  },
  {
   "cell_type": "code",
   "execution_count": 3,
   "id": "84eff9d9",
   "metadata": {},
   "outputs": [
    {
     "name": "stdout",
     "output_type": "stream",
     "text": [
      "The distribution of house sizes is positively skewed, indicating that there are more smaller houses in the residential locality.\n"
     ]
    }
   ],
   "source": [
    "#Ans-2\n",
    "\n",
    "mean_size = 2224\n",
    "median_size = 1500\n",
    "\n",
    "if mean_size > median_size:\n",
    "    skewness = \"positively skewed\"\n",
    "    comparison = \"more smaller\"\n",
    "elif mean_size < median_size:\n",
    "    skewness = \"negatively skewed\"\n",
    "    comparison = \"more larger\"\n",
    "else:\n",
    "    skewness = \"approximately symmetric\"\n",
    "    comparison = \"an equal number of smaller and larger\"\n",
    "\n",
    "print(f\"The distribution of house sizes is {skewness}, indicating that there are {comparison} houses in the residential locality.\")\n",
    "\n",
    "\n",
    "\n"
   ]
  },
  {
   "cell_type": "code",
   "execution_count": 4,
   "id": "d30e70ca",
   "metadata": {},
   "outputs": [
    {
     "data": {
      "text/plain": [
       "(25.0, 25.0)"
      ]
     },
     "execution_count": 4,
     "metadata": {},
     "output_type": "execute_result"
    }
   ],
   "source": [
    "#Ans-3\n",
    "\n",
    "# Define the data\n",
    "mean_group1 = 500000\n",
    "std_dev_group1 = 125000\n",
    "\n",
    "mean_group2 = 40000\n",
    "std_dev_group2 = 10000\n",
    "\n",
    "# Calculate the Coefficient of Variation (CV) for both groups\n",
    "cv_group1 = (std_dev_group1 / mean_group1) * 100\n",
    "cv_group2 = (std_dev_group2 / mean_group2) * 100\n",
    "\n",
    "# Display the results\n",
    "cv_group1, cv_group2"
   ]
  },
  {
   "cell_type": "markdown",
   "id": "bd702395",
   "metadata": {},
   "source": [
    "### Method used\n",
    "* To measure the variability of both the groups we have used coefficient of variation method (CV).\n",
    "* Both groups have a Coefficient of Variation (CV) of 25%. This means that the standard deviation of expenditures in both groups is 25% of their respective means. The CV allows you to compare the relative variability between the two groups while taking into account the differences in their means. In this case, both groups have the same CV, indicating that the relative variability in expenditure is the same for both groups despite their different means."
   ]
  },
  {
   "cell_type": "code",
   "execution_count": 5,
   "id": "44fd1e6b",
   "metadata": {},
   "outputs": [
    {
     "name": "stdout",
     "output_type": "stream",
     "text": [
      "The class interval with the highest frequency is: 35-45\n"
     ]
    }
   ],
   "source": [
    "#Ans-4a\n",
    "\n",
    "# Create the DataFrame\n",
    "data = {'Age (In Years)': ['5-15', '15-25', '25-35', '35-45', '45-55', '55-64'],\n",
    "        'No. of Patients': [6, 11, 21, 23, 14, 5]}\n",
    "\n",
    "df = pd.DataFrame(data)\n",
    "\n",
    "# Find the class interval with the highest frequency\n",
    "max_freq_interval = df[df['No. of Patients'] == df['No. of Patients'].max()]\n",
    "\n",
    "# Extract the class interval from the result\n",
    "highest_frequency_class_interval = max_freq_interval.iloc[0]['Age (In Years)']\n",
    "\n",
    "print(f\"The class interval with the highest frequency is: {highest_frequency_class_interval}\")\n",
    "\n",
    "\n"
   ]
  },
  {
   "cell_type": "code",
   "execution_count": 6,
   "id": "d96b345f",
   "metadata": {},
   "outputs": [
    {
     "data": {
      "text/plain": [
       "'55-64'"
      ]
     },
     "execution_count": 6,
     "metadata": {},
     "output_type": "execute_result"
    }
   ],
   "source": [
    "#Ans-4b\n",
    "\n",
    "# Find the age group with the least number of patients\n",
    "least_affected_age_group = df[df['No. of Patients'] == df['No. of Patients'].min()]\n",
    "\n",
    "# Extract the age group from the result\n",
    "least_affected_age = least_affected_age_group.iloc[0]['Age (In Years)']\n",
    "\n",
    "least_affected_age\n"
   ]
  },
  {
   "cell_type": "code",
   "execution_count": 7,
   "id": "4fecba8c",
   "metadata": {},
   "outputs": [
    {
     "data": {
      "text/plain": [
       "19"
      ]
     },
     "execution_count": 7,
     "metadata": {},
     "output_type": "execute_result"
    }
   ],
   "source": [
    "#Ans-4c\n",
    "\n",
    "# Age groups covering 45 years and above: '45-55' and '55-64'\n",
    "age_groups_45_and_above = ['45-55', '55-64']\n",
    "\n",
    "# Select rows for the age groups '45-55' and '55-64'\n",
    "filtered_df = df[df['Age (In Years)'].isin(age_groups_45_and_above)]\n",
    "\n",
    "\n",
    "# Sum the frequencies for the age groups '45-55' and '55-64'\n",
    "total_patients_age_45_and_above = filtered_df['No. of Patients'].sum()\n",
    "total_patients_age_45_and_above\n"
   ]
  },
  {
   "cell_type": "code",
   "execution_count": 8,
   "id": "69afa662",
   "metadata": {},
   "outputs": [
    {
     "data": {
      "text/plain": [
       "'35-45'"
      ]
     },
     "execution_count": 8,
     "metadata": {},
     "output_type": "execute_result"
    }
   ],
   "source": [
    "#Ans-4d\n",
    "\n",
    "#Find the Modal Class Interval(mode)\n",
    "modal_class_interval = df[df['No. of Patients'] == df['No. of Patients'].max()]\n",
    "\n",
    "modal_class_interval.iloc[0]['Age (In Years)']\n"
   ]
  },
  {
   "cell_type": "code",
   "execution_count": 9,
   "id": "41aa477d",
   "metadata": {},
   "outputs": [
    {
     "data": {
      "text/plain": [
       "'35-45'"
      ]
     },
     "execution_count": 9,
     "metadata": {},
     "output_type": "execute_result"
    }
   ],
   "source": [
    "#Ans-4e\n",
    "\n",
    "# Calculate the median position (half of the total number of observations)\n",
    "total_patients = df['No. of Patients'].sum()\n",
    "median_value = total_patients / 2\n",
    "\n",
    "cumulative_frequency = 0\n",
    "median_class_interval = None\n",
    "\n",
    "for index, row in df.iterrows():\n",
    "    cumulative_frequency += row['No. of Patients']\n",
    "    if cumulative_frequency >= median_value:\n",
    "        median_class_interval = row['Age (In Years)']\n",
    "        break\n",
    "median_class_interval\n"
   ]
  },
  {
   "cell_type": "code",
   "execution_count": 10,
   "id": "2453d8c4",
   "metadata": {},
   "outputs": [
    {
     "data": {
      "text/plain": [
       "4.500000000000001"
      ]
     },
     "execution_count": 10,
     "metadata": {},
     "output_type": "execute_result"
    }
   ],
   "source": [
    "#Ans-5\n",
    "\n",
    "# Define the data\n",
    "returns = [0.36, 0.23, -0.48, -0.30, 0.15, 0.31]\n",
    "\n",
    "# Calculate the average return using the arithmetic mean formula\n",
    "average_return = sum(returns) / len(returns)\n",
    "\n",
    "average_return_percentage = average_return * 100  # Convert to percentage\n",
    "\n",
    "average_return_percentage\n"
   ]
  },
  {
   "cell_type": "markdown",
   "id": "81998a2d",
   "metadata": {},
   "source": [
    "* I have used arithmetic mean formulae to calculate the average return. Average_return_percentage tell us how much investment returned, on an average each year over a specified period of time."
   ]
  },
  {
   "cell_type": "code",
   "execution_count": 11,
   "id": "ea2f8acf",
   "metadata": {},
   "outputs": [
    {
     "name": "stdout",
     "output_type": "stream",
     "text": [
      "Sample Mean Height: 174.6832030475686\n"
     ]
    }
   ],
   "source": [
    "#Ans-6\n",
    "\n",
    "import random\n",
    "\n",
    "# Simulating a sample of male heights in centimeters \n",
    "np.random.seed(0)  # for reproducibility\n",
    "sample_size = 1000\n",
    "sample_heights = np.random.normal(175, 7, sample_size)  # Corrected the string formatting\n",
    "# Calculating the sample mean\n",
    "sample_mean = np.mean(sample_heights)\n",
    "\n",
    "print(\"Sample Mean Height:\", sample_mean)\n"
   ]
  },
  {
   "cell_type": "markdown",
   "id": "d95c6ae2",
   "metadata": {},
   "source": [
    "* Average height is like a big-picture number if we could measure the height of every man in the world. But because it's impossible to do that, we use an average height based on measurements from some people instead. So, when we talk about the average height from samples, we call it a statistic. Parameters are like the whole deal because they cover everyone, while statistics are like a sneak peek because they're just based on the folks we actually measured. Usually, we go with statistics because it's easier to do."
   ]
  },
  {
   "cell_type": "code",
   "execution_count": 12,
   "id": "277b84a6",
   "metadata": {},
   "outputs": [
    {
     "data": {
      "text/plain": [
       "[-1.553856019598407,\n",
       " -0.816677814951721,\n",
       " -0.3396801531215125,\n",
       " 0.44086147532791964,\n",
       " 1.004585984763621,\n",
       " 1.2647665275800983]"
      ]
     },
     "execution_count": 12,
     "metadata": {},
     "output_type": "execute_result"
    }
   ],
   "source": [
    "#Ans-7\n",
    "\n",
    "# Define the dataset\n",
    "X = [4.5, 6.2, 7.3, 9.1, 10.4, 11]\n",
    "\n",
    "# Calculate the mean and standard deviation\n",
    "mean_X = np.mean(X)\n",
    "std_dev_X = np.std(X)\n",
    "\n",
    "# Calculate the z-scores for each number in the dataset\n",
    "z_scores = [(x - mean_X) / std_dev_X for x in X]\n",
    "\n",
    "z_scores\n"
   ]
  },
  {
   "cell_type": "code",
   "execution_count": 13,
   "id": "efc73e9e",
   "metadata": {},
   "outputs": [
    {
     "name": "stderr",
     "output_type": "stream",
     "text": [
      "C:\\Users\\hp\\anaconda3\\Lib\\site-packages\\openpyxl\\worksheet\\_read_only.py:79: UserWarning: Unknown extension is not supported and will be removed\n",
      "  for idx, row in parser.parse():\n"
     ]
    }
   ],
   "source": [
    "#Ans-8\n",
    "\n",
    "bank = pd.read_excel(r\"C:\\Users\\hp\\Downloads\\Bank Personal Loan Modelling.xlsx\", sheet_name=\"Data\")"
   ]
  },
  {
   "cell_type": "code",
   "execution_count": 14,
   "id": "3aa41669",
   "metadata": {},
   "outputs": [
    {
     "data": {
      "text/html": [
       "<div>\n",
       "<style scoped>\n",
       "    .dataframe tbody tr th:only-of-type {\n",
       "        vertical-align: middle;\n",
       "    }\n",
       "\n",
       "    .dataframe tbody tr th {\n",
       "        vertical-align: top;\n",
       "    }\n",
       "\n",
       "    .dataframe thead th {\n",
       "        text-align: right;\n",
       "    }\n",
       "</style>\n",
       "<table border=\"1\" class=\"dataframe\">\n",
       "  <thead>\n",
       "    <tr style=\"text-align: right;\">\n",
       "      <th></th>\n",
       "      <th>ID</th>\n",
       "      <th>Age</th>\n",
       "      <th>Experience</th>\n",
       "      <th>Income</th>\n",
       "      <th>ZIP Code</th>\n",
       "      <th>Family</th>\n",
       "      <th>CCAvg</th>\n",
       "      <th>Education</th>\n",
       "      <th>Mortgage</th>\n",
       "      <th>Personal Loan</th>\n",
       "      <th>Securities Account</th>\n",
       "      <th>CD Account</th>\n",
       "      <th>Online</th>\n",
       "      <th>CreditCard</th>\n",
       "    </tr>\n",
       "  </thead>\n",
       "  <tbody>\n",
       "    <tr>\n",
       "      <th>0</th>\n",
       "      <td>1</td>\n",
       "      <td>25</td>\n",
       "      <td>1</td>\n",
       "      <td>49</td>\n",
       "      <td>91107</td>\n",
       "      <td>4</td>\n",
       "      <td>1.6</td>\n",
       "      <td>1</td>\n",
       "      <td>0</td>\n",
       "      <td>0</td>\n",
       "      <td>1</td>\n",
       "      <td>0</td>\n",
       "      <td>0</td>\n",
       "      <td>0</td>\n",
       "    </tr>\n",
       "    <tr>\n",
       "      <th>1</th>\n",
       "      <td>2</td>\n",
       "      <td>45</td>\n",
       "      <td>19</td>\n",
       "      <td>34</td>\n",
       "      <td>90089</td>\n",
       "      <td>3</td>\n",
       "      <td>1.5</td>\n",
       "      <td>1</td>\n",
       "      <td>0</td>\n",
       "      <td>0</td>\n",
       "      <td>1</td>\n",
       "      <td>0</td>\n",
       "      <td>0</td>\n",
       "      <td>0</td>\n",
       "    </tr>\n",
       "    <tr>\n",
       "      <th>2</th>\n",
       "      <td>3</td>\n",
       "      <td>39</td>\n",
       "      <td>15</td>\n",
       "      <td>11</td>\n",
       "      <td>94720</td>\n",
       "      <td>1</td>\n",
       "      <td>1.0</td>\n",
       "      <td>1</td>\n",
       "      <td>0</td>\n",
       "      <td>0</td>\n",
       "      <td>0</td>\n",
       "      <td>0</td>\n",
       "      <td>0</td>\n",
       "      <td>0</td>\n",
       "    </tr>\n",
       "    <tr>\n",
       "      <th>3</th>\n",
       "      <td>4</td>\n",
       "      <td>35</td>\n",
       "      <td>9</td>\n",
       "      <td>100</td>\n",
       "      <td>94112</td>\n",
       "      <td>1</td>\n",
       "      <td>2.7</td>\n",
       "      <td>2</td>\n",
       "      <td>0</td>\n",
       "      <td>0</td>\n",
       "      <td>0</td>\n",
       "      <td>0</td>\n",
       "      <td>0</td>\n",
       "      <td>0</td>\n",
       "    </tr>\n",
       "    <tr>\n",
       "      <th>4</th>\n",
       "      <td>5</td>\n",
       "      <td>35</td>\n",
       "      <td>8</td>\n",
       "      <td>45</td>\n",
       "      <td>91330</td>\n",
       "      <td>4</td>\n",
       "      <td>1.0</td>\n",
       "      <td>2</td>\n",
       "      <td>0</td>\n",
       "      <td>0</td>\n",
       "      <td>0</td>\n",
       "      <td>0</td>\n",
       "      <td>0</td>\n",
       "      <td>1</td>\n",
       "    </tr>\n",
       "  </tbody>\n",
       "</table>\n",
       "</div>"
      ],
      "text/plain": [
       "   ID  Age  Experience  Income  ZIP Code  Family  CCAvg  Education  Mortgage  \\\n",
       "0   1   25           1      49     91107       4    1.6          1         0   \n",
       "1   2   45          19      34     90089       3    1.5          1         0   \n",
       "2   3   39          15      11     94720       1    1.0          1         0   \n",
       "3   4   35           9     100     94112       1    2.7          2         0   \n",
       "4   5   35           8      45     91330       4    1.0          2         0   \n",
       "\n",
       "   Personal Loan  Securities Account  CD Account  Online  CreditCard  \n",
       "0              0                   1           0       0           0  \n",
       "1              0                   1           0       0           0  \n",
       "2              0                   0           0       0           0  \n",
       "3              0                   0           0       0           0  \n",
       "4              0                   0           0       0           1  "
      ]
     },
     "execution_count": 14,
     "metadata": {},
     "output_type": "execute_result"
    }
   ],
   "source": [
    "bank.head()"
   ]
  },
  {
   "cell_type": "code",
   "execution_count": 15,
   "id": "f2de4246",
   "metadata": {},
   "outputs": [
    {
     "data": {
      "text/html": [
       "<div>\n",
       "<style scoped>\n",
       "    .dataframe tbody tr th:only-of-type {\n",
       "        vertical-align: middle;\n",
       "    }\n",
       "\n",
       "    .dataframe tbody tr th {\n",
       "        vertical-align: top;\n",
       "    }\n",
       "\n",
       "    .dataframe thead th {\n",
       "        text-align: right;\n",
       "    }\n",
       "</style>\n",
       "<table border=\"1\" class=\"dataframe\">\n",
       "  <thead>\n",
       "    <tr style=\"text-align: right;\">\n",
       "      <th></th>\n",
       "      <th>ID</th>\n",
       "      <th>Age</th>\n",
       "      <th>Experience</th>\n",
       "      <th>Income</th>\n",
       "      <th>ZIP Code</th>\n",
       "      <th>Family</th>\n",
       "      <th>CCAvg</th>\n",
       "      <th>Education</th>\n",
       "      <th>Mortgage</th>\n",
       "      <th>Personal Loan</th>\n",
       "      <th>Securities Account</th>\n",
       "      <th>CD Account</th>\n",
       "      <th>Online</th>\n",
       "      <th>CreditCard</th>\n",
       "    </tr>\n",
       "  </thead>\n",
       "  <tbody>\n",
       "    <tr>\n",
       "      <th>count</th>\n",
       "      <td>5000.000000</td>\n",
       "      <td>5000.000000</td>\n",
       "      <td>5000.000000</td>\n",
       "      <td>5000.000000</td>\n",
       "      <td>5000.000000</td>\n",
       "      <td>5000.000000</td>\n",
       "      <td>5000.000000</td>\n",
       "      <td>5000.000000</td>\n",
       "      <td>5000.000000</td>\n",
       "      <td>5000.000000</td>\n",
       "      <td>5000.000000</td>\n",
       "      <td>5000.00000</td>\n",
       "      <td>5000.000000</td>\n",
       "      <td>5000.000000</td>\n",
       "    </tr>\n",
       "    <tr>\n",
       "      <th>mean</th>\n",
       "      <td>2500.500000</td>\n",
       "      <td>45.338400</td>\n",
       "      <td>20.104600</td>\n",
       "      <td>73.774200</td>\n",
       "      <td>93152.503000</td>\n",
       "      <td>2.396400</td>\n",
       "      <td>1.937913</td>\n",
       "      <td>1.881000</td>\n",
       "      <td>56.498800</td>\n",
       "      <td>0.096000</td>\n",
       "      <td>0.104400</td>\n",
       "      <td>0.06040</td>\n",
       "      <td>0.596800</td>\n",
       "      <td>0.294000</td>\n",
       "    </tr>\n",
       "    <tr>\n",
       "      <th>std</th>\n",
       "      <td>1443.520003</td>\n",
       "      <td>11.463166</td>\n",
       "      <td>11.467954</td>\n",
       "      <td>46.033729</td>\n",
       "      <td>2121.852197</td>\n",
       "      <td>1.147663</td>\n",
       "      <td>1.747666</td>\n",
       "      <td>0.839869</td>\n",
       "      <td>101.713802</td>\n",
       "      <td>0.294621</td>\n",
       "      <td>0.305809</td>\n",
       "      <td>0.23825</td>\n",
       "      <td>0.490589</td>\n",
       "      <td>0.455637</td>\n",
       "    </tr>\n",
       "    <tr>\n",
       "      <th>min</th>\n",
       "      <td>1.000000</td>\n",
       "      <td>23.000000</td>\n",
       "      <td>-3.000000</td>\n",
       "      <td>8.000000</td>\n",
       "      <td>9307.000000</td>\n",
       "      <td>1.000000</td>\n",
       "      <td>0.000000</td>\n",
       "      <td>1.000000</td>\n",
       "      <td>0.000000</td>\n",
       "      <td>0.000000</td>\n",
       "      <td>0.000000</td>\n",
       "      <td>0.00000</td>\n",
       "      <td>0.000000</td>\n",
       "      <td>0.000000</td>\n",
       "    </tr>\n",
       "    <tr>\n",
       "      <th>25%</th>\n",
       "      <td>1250.750000</td>\n",
       "      <td>35.000000</td>\n",
       "      <td>10.000000</td>\n",
       "      <td>39.000000</td>\n",
       "      <td>91911.000000</td>\n",
       "      <td>1.000000</td>\n",
       "      <td>0.700000</td>\n",
       "      <td>1.000000</td>\n",
       "      <td>0.000000</td>\n",
       "      <td>0.000000</td>\n",
       "      <td>0.000000</td>\n",
       "      <td>0.00000</td>\n",
       "      <td>0.000000</td>\n",
       "      <td>0.000000</td>\n",
       "    </tr>\n",
       "    <tr>\n",
       "      <th>50%</th>\n",
       "      <td>2500.500000</td>\n",
       "      <td>45.000000</td>\n",
       "      <td>20.000000</td>\n",
       "      <td>64.000000</td>\n",
       "      <td>93437.000000</td>\n",
       "      <td>2.000000</td>\n",
       "      <td>1.500000</td>\n",
       "      <td>2.000000</td>\n",
       "      <td>0.000000</td>\n",
       "      <td>0.000000</td>\n",
       "      <td>0.000000</td>\n",
       "      <td>0.00000</td>\n",
       "      <td>1.000000</td>\n",
       "      <td>0.000000</td>\n",
       "    </tr>\n",
       "    <tr>\n",
       "      <th>75%</th>\n",
       "      <td>3750.250000</td>\n",
       "      <td>55.000000</td>\n",
       "      <td>30.000000</td>\n",
       "      <td>98.000000</td>\n",
       "      <td>94608.000000</td>\n",
       "      <td>3.000000</td>\n",
       "      <td>2.500000</td>\n",
       "      <td>3.000000</td>\n",
       "      <td>101.000000</td>\n",
       "      <td>0.000000</td>\n",
       "      <td>0.000000</td>\n",
       "      <td>0.00000</td>\n",
       "      <td>1.000000</td>\n",
       "      <td>1.000000</td>\n",
       "    </tr>\n",
       "    <tr>\n",
       "      <th>max</th>\n",
       "      <td>5000.000000</td>\n",
       "      <td>67.000000</td>\n",
       "      <td>43.000000</td>\n",
       "      <td>224.000000</td>\n",
       "      <td>96651.000000</td>\n",
       "      <td>4.000000</td>\n",
       "      <td>10.000000</td>\n",
       "      <td>3.000000</td>\n",
       "      <td>635.000000</td>\n",
       "      <td>1.000000</td>\n",
       "      <td>1.000000</td>\n",
       "      <td>1.00000</td>\n",
       "      <td>1.000000</td>\n",
       "      <td>1.000000</td>\n",
       "    </tr>\n",
       "  </tbody>\n",
       "</table>\n",
       "</div>"
      ],
      "text/plain": [
       "                ID          Age   Experience       Income      ZIP Code  \\\n",
       "count  5000.000000  5000.000000  5000.000000  5000.000000   5000.000000   \n",
       "mean   2500.500000    45.338400    20.104600    73.774200  93152.503000   \n",
       "std    1443.520003    11.463166    11.467954    46.033729   2121.852197   \n",
       "min       1.000000    23.000000    -3.000000     8.000000   9307.000000   \n",
       "25%    1250.750000    35.000000    10.000000    39.000000  91911.000000   \n",
       "50%    2500.500000    45.000000    20.000000    64.000000  93437.000000   \n",
       "75%    3750.250000    55.000000    30.000000    98.000000  94608.000000   \n",
       "max    5000.000000    67.000000    43.000000   224.000000  96651.000000   \n",
       "\n",
       "            Family        CCAvg    Education     Mortgage  Personal Loan  \\\n",
       "count  5000.000000  5000.000000  5000.000000  5000.000000    5000.000000   \n",
       "mean      2.396400     1.937913     1.881000    56.498800       0.096000   \n",
       "std       1.147663     1.747666     0.839869   101.713802       0.294621   \n",
       "min       1.000000     0.000000     1.000000     0.000000       0.000000   \n",
       "25%       1.000000     0.700000     1.000000     0.000000       0.000000   \n",
       "50%       2.000000     1.500000     2.000000     0.000000       0.000000   \n",
       "75%       3.000000     2.500000     3.000000   101.000000       0.000000   \n",
       "max       4.000000    10.000000     3.000000   635.000000       1.000000   \n",
       "\n",
       "       Securities Account  CD Account       Online   CreditCard  \n",
       "count         5000.000000  5000.00000  5000.000000  5000.000000  \n",
       "mean             0.104400     0.06040     0.596800     0.294000  \n",
       "std              0.305809     0.23825     0.490589     0.455637  \n",
       "min              0.000000     0.00000     0.000000     0.000000  \n",
       "25%              0.000000     0.00000     0.000000     0.000000  \n",
       "50%              0.000000     0.00000     1.000000     0.000000  \n",
       "75%              0.000000     0.00000     1.000000     1.000000  \n",
       "max              1.000000     1.00000     1.000000     1.000000  "
      ]
     },
     "execution_count": 15,
     "metadata": {},
     "output_type": "execute_result"
    }
   ],
   "source": [
    "bank.describe()"
   ]
  },
  {
   "cell_type": "code",
   "execution_count": 16,
   "id": "d06c19e1",
   "metadata": {},
   "outputs": [
    {
     "data": {
      "text/html": [
       "<div>\n",
       "<style scoped>\n",
       "    .dataframe tbody tr th:only-of-type {\n",
       "        vertical-align: middle;\n",
       "    }\n",
       "\n",
       "    .dataframe tbody tr th {\n",
       "        vertical-align: top;\n",
       "    }\n",
       "\n",
       "    .dataframe thead th {\n",
       "        text-align: right;\n",
       "    }\n",
       "</style>\n",
       "<table border=\"1\" class=\"dataframe\">\n",
       "  <thead>\n",
       "    <tr style=\"text-align: right;\">\n",
       "      <th></th>\n",
       "      <th>Mean</th>\n",
       "      <th>Median</th>\n",
       "      <th>Mode</th>\n",
       "      <th>Standard Deviation</th>\n",
       "      <th>Variance</th>\n",
       "      <th>Range</th>\n",
       "      <th>Interquartile Range (IQR)</th>\n",
       "    </tr>\n",
       "  </thead>\n",
       "  <tbody>\n",
       "    <tr>\n",
       "      <th>ID</th>\n",
       "      <td>2500.500000</td>\n",
       "      <td>2500.5</td>\n",
       "      <td>1.0</td>\n",
       "      <td>1443.520003</td>\n",
       "      <td>2.083750e+06</td>\n",
       "      <td>4999.0</td>\n",
       "      <td>2499.5</td>\n",
       "    </tr>\n",
       "    <tr>\n",
       "      <th>Age</th>\n",
       "      <td>45.338400</td>\n",
       "      <td>45.0</td>\n",
       "      <td>35.0</td>\n",
       "      <td>11.463166</td>\n",
       "      <td>1.314042e+02</td>\n",
       "      <td>44.0</td>\n",
       "      <td>20.0</td>\n",
       "    </tr>\n",
       "    <tr>\n",
       "      <th>Experience</th>\n",
       "      <td>20.104600</td>\n",
       "      <td>20.0</td>\n",
       "      <td>32.0</td>\n",
       "      <td>11.467954</td>\n",
       "      <td>1.315140e+02</td>\n",
       "      <td>46.0</td>\n",
       "      <td>20.0</td>\n",
       "    </tr>\n",
       "    <tr>\n",
       "      <th>Income</th>\n",
       "      <td>73.774200</td>\n",
       "      <td>64.0</td>\n",
       "      <td>44.0</td>\n",
       "      <td>46.033729</td>\n",
       "      <td>2.119104e+03</td>\n",
       "      <td>216.0</td>\n",
       "      <td>59.0</td>\n",
       "    </tr>\n",
       "    <tr>\n",
       "      <th>ZIP Code</th>\n",
       "      <td>93152.503000</td>\n",
       "      <td>93437.0</td>\n",
       "      <td>94720.0</td>\n",
       "      <td>2121.852197</td>\n",
       "      <td>4.502257e+06</td>\n",
       "      <td>87344.0</td>\n",
       "      <td>2697.0</td>\n",
       "    </tr>\n",
       "    <tr>\n",
       "      <th>Family</th>\n",
       "      <td>2.396400</td>\n",
       "      <td>2.0</td>\n",
       "      <td>1.0</td>\n",
       "      <td>1.147663</td>\n",
       "      <td>1.317130e+00</td>\n",
       "      <td>3.0</td>\n",
       "      <td>2.0</td>\n",
       "    </tr>\n",
       "    <tr>\n",
       "      <th>CCAvg</th>\n",
       "      <td>1.937913</td>\n",
       "      <td>1.5</td>\n",
       "      <td>0.3</td>\n",
       "      <td>1.747666</td>\n",
       "      <td>3.054337e+00</td>\n",
       "      <td>10.0</td>\n",
       "      <td>1.8</td>\n",
       "    </tr>\n",
       "    <tr>\n",
       "      <th>Education</th>\n",
       "      <td>1.881000</td>\n",
       "      <td>2.0</td>\n",
       "      <td>1.0</td>\n",
       "      <td>0.839869</td>\n",
       "      <td>7.053801e-01</td>\n",
       "      <td>2.0</td>\n",
       "      <td>2.0</td>\n",
       "    </tr>\n",
       "    <tr>\n",
       "      <th>Mortgage</th>\n",
       "      <td>56.498800</td>\n",
       "      <td>0.0</td>\n",
       "      <td>0.0</td>\n",
       "      <td>101.713802</td>\n",
       "      <td>1.034570e+04</td>\n",
       "      <td>635.0</td>\n",
       "      <td>101.0</td>\n",
       "    </tr>\n",
       "    <tr>\n",
       "      <th>Personal Loan</th>\n",
       "      <td>0.096000</td>\n",
       "      <td>0.0</td>\n",
       "      <td>0.0</td>\n",
       "      <td>0.294621</td>\n",
       "      <td>8.680136e-02</td>\n",
       "      <td>1.0</td>\n",
       "      <td>0.0</td>\n",
       "    </tr>\n",
       "    <tr>\n",
       "      <th>Securities Account</th>\n",
       "      <td>0.104400</td>\n",
       "      <td>0.0</td>\n",
       "      <td>0.0</td>\n",
       "      <td>0.305809</td>\n",
       "      <td>9.351934e-02</td>\n",
       "      <td>1.0</td>\n",
       "      <td>0.0</td>\n",
       "    </tr>\n",
       "    <tr>\n",
       "      <th>CD Account</th>\n",
       "      <td>0.060400</td>\n",
       "      <td>0.0</td>\n",
       "      <td>0.0</td>\n",
       "      <td>0.238250</td>\n",
       "      <td>5.676319e-02</td>\n",
       "      <td>1.0</td>\n",
       "      <td>0.0</td>\n",
       "    </tr>\n",
       "    <tr>\n",
       "      <th>Online</th>\n",
       "      <td>0.596800</td>\n",
       "      <td>1.0</td>\n",
       "      <td>1.0</td>\n",
       "      <td>0.490589</td>\n",
       "      <td>2.406779e-01</td>\n",
       "      <td>1.0</td>\n",
       "      <td>1.0</td>\n",
       "    </tr>\n",
       "    <tr>\n",
       "      <th>CreditCard</th>\n",
       "      <td>0.294000</td>\n",
       "      <td>0.0</td>\n",
       "      <td>0.0</td>\n",
       "      <td>0.455637</td>\n",
       "      <td>2.076055e-01</td>\n",
       "      <td>1.0</td>\n",
       "      <td>1.0</td>\n",
       "    </tr>\n",
       "  </tbody>\n",
       "</table>\n",
       "</div>"
      ],
      "text/plain": [
       "                            Mean   Median     Mode  Standard Deviation  \\\n",
       "ID                   2500.500000   2500.5      1.0         1443.520003   \n",
       "Age                    45.338400     45.0     35.0           11.463166   \n",
       "Experience             20.104600     20.0     32.0           11.467954   \n",
       "Income                 73.774200     64.0     44.0           46.033729   \n",
       "ZIP Code            93152.503000  93437.0  94720.0         2121.852197   \n",
       "Family                  2.396400      2.0      1.0            1.147663   \n",
       "CCAvg                   1.937913      1.5      0.3            1.747666   \n",
       "Education               1.881000      2.0      1.0            0.839869   \n",
       "Mortgage               56.498800      0.0      0.0          101.713802   \n",
       "Personal Loan           0.096000      0.0      0.0            0.294621   \n",
       "Securities Account      0.104400      0.0      0.0            0.305809   \n",
       "CD Account              0.060400      0.0      0.0            0.238250   \n",
       "Online                  0.596800      1.0      1.0            0.490589   \n",
       "CreditCard              0.294000      0.0      0.0            0.455637   \n",
       "\n",
       "                        Variance    Range  Interquartile Range (IQR)  \n",
       "ID                  2.083750e+06   4999.0                     2499.5  \n",
       "Age                 1.314042e+02     44.0                       20.0  \n",
       "Experience          1.315140e+02     46.0                       20.0  \n",
       "Income              2.119104e+03    216.0                       59.0  \n",
       "ZIP Code            4.502257e+06  87344.0                     2697.0  \n",
       "Family              1.317130e+00      3.0                        2.0  \n",
       "CCAvg               3.054337e+00     10.0                        1.8  \n",
       "Education           7.053801e-01      2.0                        2.0  \n",
       "Mortgage            1.034570e+04    635.0                      101.0  \n",
       "Personal Loan       8.680136e-02      1.0                        0.0  \n",
       "Securities Account  9.351934e-02      1.0                        0.0  \n",
       "CD Account          5.676319e-02      1.0                        0.0  \n",
       "Online              2.406779e-01      1.0                        1.0  \n",
       "CreditCard          2.076055e-01      1.0                        1.0  "
      ]
     },
     "execution_count": 16,
     "metadata": {},
     "output_type": "execute_result"
    }
   ],
   "source": [
    "#Ans-9\n",
    "\n",
    "# Calculate measures of central tendency\n",
    "mean_values =bank.mean()\n",
    "median_values =bank.median()\n",
    "mode_values = bank.mode().iloc[0] \n",
    "\n",
    "# Calculate measures of dispersion\n",
    "std_deviation = bank.std()\n",
    "variance = bank.var()\n",
    "data_range = bank.max() - bank.min()\n",
    "iqr = bank.quantile(0.75) - bank.quantile(0.25)\n",
    "\n",
    "# Create a summary DataFrame to display the results\n",
    "summary_bank = pd.DataFrame({\n",
    "    'Mean': mean_values,\n",
    "    'Median': median_values,\n",
    "    'Mode': mode_values,\n",
    "    'Standard Deviation': std_deviation,\n",
    "    'Variance': variance,\n",
    "    'Range': data_range,\n",
    "    'Interquartile Range (IQR)': iqr\n",
    "})\n",
    "# Display the summary DataFrame\n",
    "summary_bank"
   ]
  },
  {
   "cell_type": "code",
   "execution_count": 17,
   "id": "95075bb2",
   "metadata": {},
   "outputs": [
    {
     "data": {
      "text/html": [
       "<div>\n",
       "<style scoped>\n",
       "    .dataframe tbody tr th:only-of-type {\n",
       "        vertical-align: middle;\n",
       "    }\n",
       "\n",
       "    .dataframe tbody tr th {\n",
       "        vertical-align: top;\n",
       "    }\n",
       "\n",
       "    .dataframe thead th {\n",
       "        text-align: right;\n",
       "    }\n",
       "</style>\n",
       "<table border=\"1\" class=\"dataframe\">\n",
       "  <thead>\n",
       "    <tr style=\"text-align: right;\">\n",
       "      <th></th>\n",
       "      <th>ID</th>\n",
       "      <th>Age</th>\n",
       "      <th>Experience</th>\n",
       "      <th>Income</th>\n",
       "      <th>ZIP Code</th>\n",
       "      <th>Family</th>\n",
       "      <th>CCAvg</th>\n",
       "      <th>Education</th>\n",
       "      <th>Mortgage</th>\n",
       "      <th>Personal Loan</th>\n",
       "      <th>Securities Account</th>\n",
       "      <th>CD Account</th>\n",
       "      <th>Online</th>\n",
       "      <th>CreditCard</th>\n",
       "    </tr>\n",
       "  </thead>\n",
       "  <tbody>\n",
       "    <tr>\n",
       "      <th>0</th>\n",
       "      <td>1</td>\n",
       "      <td>25</td>\n",
       "      <td>1</td>\n",
       "      <td>49</td>\n",
       "      <td>91107</td>\n",
       "      <td>4</td>\n",
       "      <td>1.6</td>\n",
       "      <td>1</td>\n",
       "      <td>0</td>\n",
       "      <td>0</td>\n",
       "      <td>1</td>\n",
       "      <td>0</td>\n",
       "      <td>0</td>\n",
       "      <td>0</td>\n",
       "    </tr>\n",
       "    <tr>\n",
       "      <th>1</th>\n",
       "      <td>2</td>\n",
       "      <td>45</td>\n",
       "      <td>19</td>\n",
       "      <td>34</td>\n",
       "      <td>90089</td>\n",
       "      <td>3</td>\n",
       "      <td>1.5</td>\n",
       "      <td>1</td>\n",
       "      <td>0</td>\n",
       "      <td>0</td>\n",
       "      <td>1</td>\n",
       "      <td>0</td>\n",
       "      <td>0</td>\n",
       "      <td>0</td>\n",
       "    </tr>\n",
       "    <tr>\n",
       "      <th>2</th>\n",
       "      <td>3</td>\n",
       "      <td>39</td>\n",
       "      <td>15</td>\n",
       "      <td>11</td>\n",
       "      <td>94720</td>\n",
       "      <td>1</td>\n",
       "      <td>1.0</td>\n",
       "      <td>1</td>\n",
       "      <td>0</td>\n",
       "      <td>0</td>\n",
       "      <td>0</td>\n",
       "      <td>0</td>\n",
       "      <td>0</td>\n",
       "      <td>0</td>\n",
       "    </tr>\n",
       "    <tr>\n",
       "      <th>3</th>\n",
       "      <td>4</td>\n",
       "      <td>35</td>\n",
       "      <td>9</td>\n",
       "      <td>100</td>\n",
       "      <td>94112</td>\n",
       "      <td>1</td>\n",
       "      <td>2.7</td>\n",
       "      <td>2</td>\n",
       "      <td>0</td>\n",
       "      <td>0</td>\n",
       "      <td>0</td>\n",
       "      <td>0</td>\n",
       "      <td>0</td>\n",
       "      <td>0</td>\n",
       "    </tr>\n",
       "    <tr>\n",
       "      <th>4</th>\n",
       "      <td>5</td>\n",
       "      <td>35</td>\n",
       "      <td>8</td>\n",
       "      <td>45</td>\n",
       "      <td>91330</td>\n",
       "      <td>4</td>\n",
       "      <td>1.0</td>\n",
       "      <td>2</td>\n",
       "      <td>0</td>\n",
       "      <td>0</td>\n",
       "      <td>0</td>\n",
       "      <td>0</td>\n",
       "      <td>0</td>\n",
       "      <td>1</td>\n",
       "    </tr>\n",
       "  </tbody>\n",
       "</table>\n",
       "</div>"
      ],
      "text/plain": [
       "   ID  Age  Experience  Income  ZIP Code  Family  CCAvg  Education  Mortgage  \\\n",
       "0   1   25           1      49     91107       4    1.6          1         0   \n",
       "1   2   45          19      34     90089       3    1.5          1         0   \n",
       "2   3   39          15      11     94720       1    1.0          1         0   \n",
       "3   4   35           9     100     94112       1    2.7          2         0   \n",
       "4   5   35           8      45     91330       4    1.0          2         0   \n",
       "\n",
       "   Personal Loan  Securities Account  CD Account  Online  CreditCard  \n",
       "0              0                   1           0       0           0  \n",
       "1              0                   1           0       0           0  \n",
       "2              0                   0           0       0           0  \n",
       "3              0                   0           0       0           0  \n",
       "4              0                   0           0       0           1  "
      ]
     },
     "execution_count": 17,
     "metadata": {},
     "output_type": "execute_result"
    }
   ],
   "source": [
    "#Ans-10\n",
    "\n",
    "#step-1\n",
    "bank.head()"
   ]
  },
  {
   "cell_type": "code",
   "execution_count": 18,
   "id": "ca0f97f9",
   "metadata": {},
   "outputs": [
    {
     "name": "stdout",
     "output_type": "stream",
     "text": [
      "Pearson Correlation Coefficient: 0.994214856968333\n"
     ]
    },
    {
     "data": {
      "image/png": "[encoded data removed]",
      "text/plain": [
       "<Figure size 800x600 with 1 Axes>"
      ]
     },
     "metadata": {},
     "output_type": "display_data"
    }
   ],
   "source": [
    "# Step 2: Extract the \"Age\" and \"Experience\" columns\n",
    "age = bank['Age']\n",
    "experience = bank['Experience']\n",
    "\n",
    "# Step 3: Create a scatter plot\n",
    "plt.figure(figsize=(8, 6))\n",
    "plt.scatter(age, experience, alpha=0.5)\n",
    "plt.title(\"Scatter Plot of Age vs. Experience\")\n",
    "plt.xlabel(\"Age\")\n",
    "plt.ylabel(\"Experience\")\n",
    "plt.grid(True)\n",
    "\n",
    "# Step 4: Calculate the Pearson correlation coefficient\n",
    "correlation_coefficient = np.corrcoef(age, experience)[0, 1]\n",
    "print(\"Pearson Correlation Coefficient:\", correlation_coefficient)\n",
    "\n",
    "# Step 5: Display the scatter plot and correlation coefficient\n",
    "plt.show()"
   ]
  },
  {
   "cell_type": "markdown",
   "id": "b9ca6e6d",
   "metadata": {},
   "source": [
    "* The data tells us that as people get older, they usually have more work experience. This connection between age and experience is very strong and almost perfect, meaning it's a very noticeable trend."
   ]
  },
  {
   "cell_type": "code",
   "execution_count": 19,
   "id": "18121d34",
   "metadata": {},
   "outputs": [
    {
     "data": {
      "text/plain": [
       "1"
      ]
     },
     "execution_count": 19,
     "metadata": {},
     "output_type": "execute_result"
    }
   ],
   "source": [
    "#Ans-11\n",
    "\n",
    "# Calculate the mode of the \"Family\" variable\n",
    "most_frequent_family_size = bank['Family'].mode().values[0]\n",
    "# Display the most frequent family size\n",
    "most_frequent_family_size"
   ]
  },
  {
   "cell_type": "markdown",
   "id": "f0992e88",
   "metadata": {},
   "source": [
    "* The data shows that a lot of the entries in the dataset have a family size of \"1,\" which means that many of the data points represent either single individuals or households with just one person who earns income."
   ]
  },
  {
   "cell_type": "code",
   "execution_count": 20,
   "id": "fa16c6f1",
   "metadata": {},
   "outputs": [
    {
     "data": {
      "text/plain": [
       "54.93156254405797"
      ]
     },
     "execution_count": 20,
     "metadata": {},
     "output_type": "execute_result"
    }
   ],
   "source": [
    "#Ans-12\n",
    "\n",
    "from sklearn.linear_model import LinearRegression\n",
    "from sklearn.metrics import r2_score\n",
    "\n",
    "\n",
    "# Define the independent variables (features) and the dependent variable (target)\n",
    "X = bank[['Age', 'Experience', 'ZIP Code', 'Family', 'CCAvg', 'Education', 'Mortgage',\n",
    "          'Personal Loan', 'Securities Account', 'CD Account', 'Online', 'CreditCard']]\n",
    "y = bank['Income']\n",
    "\n",
    "# Create a linear regression model\n",
    "model = LinearRegression()\n",
    "\n",
    "# Fit the model to the data\n",
    "model.fit(X, y)\n",
    "\n",
    "# Predict 'Income' based on the independent variables\n",
    "y_pred = model.predict(X)\n",
    "\n",
    "# Calculate the R-squared value\n",
    "r_squared = r2_score(y, y_pred)\n",
    "\n",
    "# Convert R-squared to percentage\n",
    "percentage_variation = r_squared * 100\n",
    "\n",
    "percentage_variation\n"
   ]
  },
  {
   "cell_type": "code",
   "execution_count": 22,
   "id": "bda6b830",
   "metadata": {
    "scrolled": true
   },
   "outputs": [
    {
     "name": "stdout",
     "output_type": "stream",
     "text": [
      "      Mortgage\n",
      "0          153\n",
      "1          153\n",
      "2          153\n",
      "3          153\n",
      "4          153\n",
      "...        ...\n",
      "4995       153\n",
      "4996        85\n",
      "4997       153\n",
      "4998       153\n",
      "4999       153\n",
      "\n",
      "[5000 rows x 1 columns]\n"
     ]
    }
   ],
   "source": [
    "#Ans-13\n",
    "\n",
    "# Assuming you have a DataFrame named 'bank' with a 'Mortgage' column\n",
    "data = bank[\"Mortgage\"]\n",
    "\n",
    "# Create a DataFrame 'df' with the 'Mortgage' column\n",
    "df = pd.DataFrame(data)\n",
    "\n",
    "# Filter non-zero values in 'Mortgage'\n",
    "non_zero_values = df[df[\"Mortgage\"] > 0][\"Mortgage\"]\n",
    "\n",
    "# Calculate the median of non-zero values\n",
    "median_non_zero = non_zero_values.median()\n",
    "\n",
    "# Replace zero values in 'Mortgage' with the median of non-zero values\n",
    "df[\"Mortgage\"] = df[\"Mortgage\"].replace(0, median_non_zero)\n",
    "\n",
    "# Print the modified DataFrame 'df'\n",
    "print(df)"
   ]
  },
  {
   "cell_type": "code",
   "execution_count": 23,
   "id": "4fbd645f",
   "metadata": {},
   "outputs": [
    {
     "data": {
      "image/png": "[encoded data removed]",
      "text/plain": [
       "<Figure size 800x600 with 1 Axes>"
      ]
     },
     "metadata": {},
     "output_type": "display_data"
    }
   ],
   "source": [
    "#Ans=14\n",
    "\n",
    "# Assuming you have a DataFrame named 'bank' with the 'CCAvg' and 'CreditCard' columns\n",
    "\n",
    "# Filter data for customers with credit cards\n",
    "ccavg_with_credit_card = bank[bank['CreditCard'] == 1]['CCAvg']\n",
    "\n",
    "# Create a density plot\n",
    "plt.figure(figsize=(8, 6))\n",
    "sns.histplot(ccavg_with_credit_card, kde=True, color='blue', bins=20)\n",
    "plt.title('Density Curve of CCAvg for Customers with Credit Cards')\n",
    "plt.xlabel('CCAvg')\n",
    "plt.ylabel('Density')\n",
    "plt.show()"
   ]
  },
  {
   "cell_type": "code",
   "execution_count": 24,
   "id": "f665fba2",
   "metadata": {},
   "outputs": [
    {
     "data": {
      "text/html": [
       "<div>\n",
       "<style scoped>\n",
       "    .dataframe tbody tr th:only-of-type {\n",
       "        vertical-align: middle;\n",
       "    }\n",
       "\n",
       "    .dataframe tbody tr th {\n",
       "        vertical-align: top;\n",
       "    }\n",
       "\n",
       "    .dataframe thead th {\n",
       "        text-align: right;\n",
       "    }\n",
       "</style>\n",
       "<table border=\"1\" class=\"dataframe\">\n",
       "  <thead>\n",
       "    <tr style=\"text-align: right;\">\n",
       "      <th></th>\n",
       "      <th>ID</th>\n",
       "      <th>Age</th>\n",
       "      <th>Experience</th>\n",
       "      <th>Income</th>\n",
       "      <th>ZIP Code</th>\n",
       "      <th>Family</th>\n",
       "      <th>CCAvg</th>\n",
       "      <th>Education</th>\n",
       "      <th>Mortgage</th>\n",
       "      <th>Personal Loan</th>\n",
       "      <th>Securities Account</th>\n",
       "      <th>CD Account</th>\n",
       "      <th>Online</th>\n",
       "      <th>CreditCard</th>\n",
       "    </tr>\n",
       "  </thead>\n",
       "  <tbody>\n",
       "    <tr>\n",
       "      <th>count</th>\n",
       "      <td>5000.000000</td>\n",
       "      <td>5000.000000</td>\n",
       "      <td>5000.000000</td>\n",
       "      <td>5000.000000</td>\n",
       "      <td>5000.000000</td>\n",
       "      <td>5000.000000</td>\n",
       "      <td>5000.000000</td>\n",
       "      <td>5000.000000</td>\n",
       "      <td>5000.000000</td>\n",
       "      <td>5000.000000</td>\n",
       "      <td>5000.000000</td>\n",
       "      <td>5000.00000</td>\n",
       "      <td>5000.000000</td>\n",
       "      <td>5000.000000</td>\n",
       "    </tr>\n",
       "    <tr>\n",
       "      <th>mean</th>\n",
       "      <td>2500.500000</td>\n",
       "      <td>45.338400</td>\n",
       "      <td>20.104600</td>\n",
       "      <td>73.774200</td>\n",
       "      <td>93152.503000</td>\n",
       "      <td>2.396400</td>\n",
       "      <td>1.937913</td>\n",
       "      <td>1.881000</td>\n",
       "      <td>56.498800</td>\n",
       "      <td>0.096000</td>\n",
       "      <td>0.104400</td>\n",
       "      <td>0.06040</td>\n",
       "      <td>0.596800</td>\n",
       "      <td>0.294000</td>\n",
       "    </tr>\n",
       "    <tr>\n",
       "      <th>std</th>\n",
       "      <td>1443.520003</td>\n",
       "      <td>11.463166</td>\n",
       "      <td>11.467954</td>\n",
       "      <td>46.033729</td>\n",
       "      <td>2121.852197</td>\n",
       "      <td>1.147663</td>\n",
       "      <td>1.747666</td>\n",
       "      <td>0.839869</td>\n",
       "      <td>101.713802</td>\n",
       "      <td>0.294621</td>\n",
       "      <td>0.305809</td>\n",
       "      <td>0.23825</td>\n",
       "      <td>0.490589</td>\n",
       "      <td>0.455637</td>\n",
       "    </tr>\n",
       "    <tr>\n",
       "      <th>min</th>\n",
       "      <td>1.000000</td>\n",
       "      <td>23.000000</td>\n",
       "      <td>-3.000000</td>\n",
       "      <td>8.000000</td>\n",
       "      <td>9307.000000</td>\n",
       "      <td>1.000000</td>\n",
       "      <td>0.000000</td>\n",
       "      <td>1.000000</td>\n",
       "      <td>0.000000</td>\n",
       "      <td>0.000000</td>\n",
       "      <td>0.000000</td>\n",
       "      <td>0.00000</td>\n",
       "      <td>0.000000</td>\n",
       "      <td>0.000000</td>\n",
       "    </tr>\n",
       "    <tr>\n",
       "      <th>25%</th>\n",
       "      <td>1250.750000</td>\n",
       "      <td>35.000000</td>\n",
       "      <td>10.000000</td>\n",
       "      <td>39.000000</td>\n",
       "      <td>91911.000000</td>\n",
       "      <td>1.000000</td>\n",
       "      <td>0.700000</td>\n",
       "      <td>1.000000</td>\n",
       "      <td>0.000000</td>\n",
       "      <td>0.000000</td>\n",
       "      <td>0.000000</td>\n",
       "      <td>0.00000</td>\n",
       "      <td>0.000000</td>\n",
       "      <td>0.000000</td>\n",
       "    </tr>\n",
       "    <tr>\n",
       "      <th>50%</th>\n",
       "      <td>2500.500000</td>\n",
       "      <td>45.000000</td>\n",
       "      <td>20.000000</td>\n",
       "      <td>64.000000</td>\n",
       "      <td>93437.000000</td>\n",
       "      <td>2.000000</td>\n",
       "      <td>1.500000</td>\n",
       "      <td>2.000000</td>\n",
       "      <td>0.000000</td>\n",
       "      <td>0.000000</td>\n",
       "      <td>0.000000</td>\n",
       "      <td>0.00000</td>\n",
       "      <td>1.000000</td>\n",
       "      <td>0.000000</td>\n",
       "    </tr>\n",
       "    <tr>\n",
       "      <th>75%</th>\n",
       "      <td>3750.250000</td>\n",
       "      <td>55.000000</td>\n",
       "      <td>30.000000</td>\n",
       "      <td>98.000000</td>\n",
       "      <td>94608.000000</td>\n",
       "      <td>3.000000</td>\n",
       "      <td>2.500000</td>\n",
       "      <td>3.000000</td>\n",
       "      <td>101.000000</td>\n",
       "      <td>0.000000</td>\n",
       "      <td>0.000000</td>\n",
       "      <td>0.00000</td>\n",
       "      <td>1.000000</td>\n",
       "      <td>1.000000</td>\n",
       "    </tr>\n",
       "    <tr>\n",
       "      <th>max</th>\n",
       "      <td>5000.000000</td>\n",
       "      <td>67.000000</td>\n",
       "      <td>43.000000</td>\n",
       "      <td>224.000000</td>\n",
       "      <td>96651.000000</td>\n",
       "      <td>4.000000</td>\n",
       "      <td>10.000000</td>\n",
       "      <td>3.000000</td>\n",
       "      <td>635.000000</td>\n",
       "      <td>1.000000</td>\n",
       "      <td>1.000000</td>\n",
       "      <td>1.00000</td>\n",
       "      <td>1.000000</td>\n",
       "      <td>1.000000</td>\n",
       "    </tr>\n",
       "  </tbody>\n",
       "</table>\n",
       "</div>"
      ],
      "text/plain": [
       "                ID          Age   Experience       Income      ZIP Code  \\\n",
       "count  5000.000000  5000.000000  5000.000000  5000.000000   5000.000000   \n",
       "mean   2500.500000    45.338400    20.104600    73.774200  93152.503000   \n",
       "std    1443.520003    11.463166    11.467954    46.033729   2121.852197   \n",
       "min       1.000000    23.000000    -3.000000     8.000000   9307.000000   \n",
       "25%    1250.750000    35.000000    10.000000    39.000000  91911.000000   \n",
       "50%    2500.500000    45.000000    20.000000    64.000000  93437.000000   \n",
       "75%    3750.250000    55.000000    30.000000    98.000000  94608.000000   \n",
       "max    5000.000000    67.000000    43.000000   224.000000  96651.000000   \n",
       "\n",
       "            Family        CCAvg    Education     Mortgage  Personal Loan  \\\n",
       "count  5000.000000  5000.000000  5000.000000  5000.000000    5000.000000   \n",
       "mean      2.396400     1.937913     1.881000    56.498800       0.096000   \n",
       "std       1.147663     1.747666     0.839869   101.713802       0.294621   \n",
       "min       1.000000     0.000000     1.000000     0.000000       0.000000   \n",
       "25%       1.000000     0.700000     1.000000     0.000000       0.000000   \n",
       "50%       2.000000     1.500000     2.000000     0.000000       0.000000   \n",
       "75%       3.000000     2.500000     3.000000   101.000000       0.000000   \n",
       "max       4.000000    10.000000     3.000000   635.000000       1.000000   \n",
       "\n",
       "       Securities Account  CD Account       Online   CreditCard  \n",
       "count         5000.000000  5000.00000  5000.000000  5000.000000  \n",
       "mean             0.104400     0.06040     0.596800     0.294000  \n",
       "std              0.305809     0.23825     0.490589     0.455637  \n",
       "min              0.000000     0.00000     0.000000     0.000000  \n",
       "25%              0.000000     0.00000     0.000000     0.000000  \n",
       "50%              0.000000     0.00000     1.000000     0.000000  \n",
       "75%              0.000000     0.00000     1.000000     1.000000  \n",
       "max              1.000000     1.00000     1.000000     1.000000  "
      ]
     },
     "execution_count": 24,
     "metadata": {},
     "output_type": "execute_result"
    }
   ],
   "source": [
    "# Ans-15\n",
    "\n",
    "# Describe the data\n",
    "bank.describe()"
   ]
  },
  {
   "cell_type": "markdown",
   "id": "f034bcbb",
   "metadata": {},
   "source": [
    "* Yes there are outliers in the dataset which we can identify with the help of above functions.\n",
    "* Outliers can be seen in: Income, CCAvg, Mortgage columns.\n",
    "* with the help of box plot we can show outliers in the data set"
   ]
  },
  {
   "cell_type": "code",
   "execution_count": 25,
   "id": "f066c22c",
   "metadata": {},
   "outputs": [
    {
     "data": {
      "image/png": "[encoded data removed]",
      "text/plain": [
       "<Figure size 640x480 with 1 Axes>"
      ]
     },
     "metadata": {},
     "output_type": "display_data"
    }
   ],
   "source": [
    "# create the box plot for income\n",
    "sns.boxplot(data=bank.Income)\n",
    "plt.show()"
   ]
  },
  {
   "cell_type": "code",
   "execution_count": 26,
   "id": "2f060d30",
   "metadata": {},
   "outputs": [
    {
     "data": {
      "image/png": "[encoded data removed]",
      "text/plain": [
       "<Figure size 640x480 with 1 Axes>"
      ]
     },
     "metadata": {},
     "output_type": "display_data"
    }
   ],
   "source": [
    "# create a box plot for CCAvg\n",
    "sns.boxplot(data=bank.CCAvg)\n",
    "plt.show()"
   ]
  },
  {
   "cell_type": "code",
   "execution_count": 27,
   "id": "e2da8d71",
   "metadata": {},
   "outputs": [
    {
     "data": {
      "image/png": "[encoded data removed]",
      "text/plain": [
       "<Figure size 640x480 with 1 Axes>"
      ]
     },
     "metadata": {},
     "output_type": "display_data"
    }
   ],
   "source": [
    "# create box plot for mortgage\n",
    "sns.boxplot(data=bank.Mortgage)\n",
    "plt.show()"
   ]
  },
  {
   "cell_type": "code",
   "execution_count": 28,
   "id": "19ba85fe",
   "metadata": {},
   "outputs": [
    {
     "name": "stdout",
     "output_type": "stream",
     "text": [
      "Decile 1: 22.00\n",
      "Decile 2: 33.00\n",
      "Decile 3: 42.00\n",
      "Decile 4: 52.00\n",
      "Decile 5: 64.00\n",
      "Decile 6: 78.00\n",
      "Decile 7: 88.30\n",
      "Decile 8: 113.00\n",
      "Decile 9: 145.00\n"
     ]
    }
   ],
   "source": [
    "#Ans-16\n",
    "\n",
    "# Calculate decile values for the 'Income' variable\n",
    "deciles = [bank['Income'].quantile(q=i/10) for i in range(1, 10)]\n",
    "\n",
    "# Print the decile values\n",
    "for i, decile in enumerate(deciles, start=1):\n",
    "    print(f'Decile {i}: {decile:.2f}')"
   ]
  },
  {
   "cell_type": "code",
   "execution_count": 32,
   "id": "fa514675",
   "metadata": {},
   "outputs": [
    {
     "name": "stdout",
     "output_type": "stream",
     "text": [
      "IQR of Continuos & Quantitive data:\n",
      "Age            20.0\n",
      "Experience     20.0\n",
      "Income         59.0\n",
      "Family          2.0\n",
      "CCAvg           1.8\n",
      "Mortgage      101.0\n",
      "dtype: float64\n"
     ]
    }
   ],
   "source": [
    "#Ans-17\n",
    "\n",
    "#IQR\n",
    "Continuous_Quantitative = [\"Age\",\"Experience\",\"Income\",\"Family\",\"CCAvg\",\"Mortgage\"]\n",
    "Q1 = bank[Continuous_Quantitative].quantile(0.25)\n",
    "Q3 = bank[Continuous_Quantitative].quantile(0.75)\n",
    "IQR = Q3-Q1\n",
    "print(\"IQR of Continuos & Quantitive data:\")\n",
    "print(IQR)"
   ]
  },
  {
   "cell_type": "code",
   "execution_count": 34,
   "id": "1c8f9f41",
   "metadata": {},
   "outputs": [
    {
     "name": "stdout",
     "output_type": "stream",
     "text": [
      "Average Credit Card Spending by various Income Group:\n",
      "  IncomeGroup  AvgCCAvg\n",
      "0       0-50K  0.962809\n",
      "1     50-100K  1.816053\n",
      "2    100-150K  3.179394\n",
      "3    150-200K  4.419405\n",
      "4       200K+  7.041667\n"
     ]
    }
   ],
   "source": [
    "#Ans-18\n",
    "\n",
    "income_bins = [0, 50, 100, 150, 200,float('inf')]  \n",
    "income_labels = ['0-50K', '50-100K', '100-150K', '150-200K', '200K+']  \n",
    "bank['IncomeGroup'] = pd.cut(bank['Income'], bins=income_bins, labels=income_labels)\n",
    "avg_ccavg_by_income = bank.groupby('IncomeGroup')['CCAvg'].mean()\n",
    "result_df = pd.DataFrame({'IncomeGroup': avg_ccavg_by_income.index, 'AvgCCAvg': avg_ccavg_by_income.values})\n",
    "\n",
    "print(\"Average Credit Card Spending by various Income Group:\")\n",
    "print(result_df)"
   ]
  },
  {
   "cell_type": "code",
   "execution_count": 35,
   "id": "6204a1b7",
   "metadata": {},
   "outputs": [
    {
     "name": "stdout",
     "output_type": "stream",
     "text": [
      "Number of customers using online banking: 2984\n",
      "Average income for online banking users: 74.31166219839142\n",
      "Average income for non-online banking users: 72.97867063492063\n"
     ]
    }
   ],
   "source": [
    "#Ans-19\n",
    "\n",
    "# Count the number of customers using online banking\n",
    "num_online_customers = bank[bank['Online'] == 1]['Online'].count()\n",
    "\n",
    "# Calculate the average income for customers using online banking\n",
    "average_income_online = bank[bank['Online'] == 1]['Income'].mean()\n",
    "\n",
    "# Calculate the average income for customers not using online banking\n",
    "average_income_not_online = bank[bank['Online'] == 0]['Income'].mean()\n",
    "\n",
    "# Display the results\n",
    "print(f\"Number of customers using online banking: {num_online_customers}\")\n",
    "print(f\"Average income for online banking users: {average_income_online}\")\n",
    "print(f\"Average income for non-online banking users: {average_income_not_online}\")"
   ]
  },
  {
   "cell_type": "code",
   "execution_count": 36,
   "id": "a72cee31",
   "metadata": {},
   "outputs": [
    {
     "name": "stdout",
     "output_type": "stream",
     "text": [
      "Number of observations outside ±3σ: 2\n"
     ]
    }
   ],
   "source": [
    "#Ans-20\n",
    "\n",
    "# Calculate the mean and standard deviation\n",
    "mean_income = bank['Income'].mean()\n",
    "std_deviation_income = bank['Income'].std()\n",
    "\n",
    "# Calculate the z-scores \n",
    "z_scores = (bank['Income'] - mean_income) / std_deviation_income\n",
    "\n",
    "# Find the number of observations outside the range of ±3σ\n",
    "outside_3_sigma = len(z_scores[(z_scores < -3) | (z_scores > 3)])\n",
    "\n",
    "# Display the result\n",
    "print(f\"Number of observations outside ±3σ: {outside_3_sigma}\")"
   ]
  },
  {
   "cell_type": "code",
   "execution_count": null,
   "id": "500dcc32",
   "metadata": {},
   "outputs": [],
   "source": []
  }
 ],
 "metadata": {
  "kernelspec": {
   "display_name": "Python 3 (ipykernel)",
   "language": "python",
   "name": "python3"
  },
  "language_info": {
   "codemirror_mode": {
    "name": "ipython",
    "version": 3
   },
   "file_extension": ".py",
   "mimetype": "text/x-python",
   "name": "python",
   "nbconvert_exporter": "python",
   "pygments_lexer": "ipython3",
   "version": "3.11.4"
  }
 },
 "nbformat": 4,
 "nbformat_minor": 5
}
