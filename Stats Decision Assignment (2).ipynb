{
 "cells": [
  {
   "cell_type": "code",
   "execution_count": 1,
   "id": "f3395fbe",
   "metadata": {},
   "outputs": [],
   "source": [
    "import numpy as np\n",
    "import scipy.stats as stats\n",
    "import pandas as pd"
   ]
  },
  {
   "cell_type": "code",
   "execution_count": 2,
   "id": "bf526c61",
   "metadata": {},
   "outputs": [],
   "source": [
    "property_data = pd.read_csv(r'C:\\Users\\hp\\Downloads\\property (1).csv')"
   ]
  },
  {
   "cell_type": "code",
   "execution_count": 3,
   "id": "7b94f7af",
   "metadata": {},
   "outputs": [
    {
     "data": {
      "text/html": [
       "<div>\n",
       "<style scoped>\n",
       "    .dataframe tbody tr th:only-of-type {\n",
       "        vertical-align: middle;\n",
       "    }\n",
       "\n",
       "    .dataframe tbody tr th {\n",
       "        vertical-align: top;\n",
       "    }\n",
       "\n",
       "    .dataframe thead th {\n",
       "        text-align: right;\n",
       "    }\n",
       "</style>\n",
       "<table border=\"1\" class=\"dataframe\">\n",
       "  <thead>\n",
       "    <tr style=\"text-align: right;\">\n",
       "      <th></th>\n",
       "      <th>Suburb</th>\n",
       "      <th>Address</th>\n",
       "      <th>Rooms</th>\n",
       "      <th>Type</th>\n",
       "      <th>Price</th>\n",
       "      <th>Method</th>\n",
       "      <th>SellerG</th>\n",
       "      <th>Date</th>\n",
       "      <th>Distance</th>\n",
       "      <th>Postcode</th>\n",
       "      <th>...</th>\n",
       "      <th>Bathroom</th>\n",
       "      <th>Car</th>\n",
       "      <th>Landsize</th>\n",
       "      <th>BuildingArea</th>\n",
       "      <th>YearBuilt</th>\n",
       "      <th>CouncilArea</th>\n",
       "      <th>Lattitude</th>\n",
       "      <th>Longtitude</th>\n",
       "      <th>Regionname</th>\n",
       "      <th>Propertycount</th>\n",
       "    </tr>\n",
       "  </thead>\n",
       "  <tbody>\n",
       "    <tr>\n",
       "      <th>0</th>\n",
       "      <td>Abbotsford</td>\n",
       "      <td>85 Turner St</td>\n",
       "      <td>2</td>\n",
       "      <td>h</td>\n",
       "      <td>1480000.0</td>\n",
       "      <td>S</td>\n",
       "      <td>Biggin</td>\n",
       "      <td>3/12/2016</td>\n",
       "      <td>2.5</td>\n",
       "      <td>3067.0</td>\n",
       "      <td>...</td>\n",
       "      <td>1.0</td>\n",
       "      <td>1.0</td>\n",
       "      <td>202.0</td>\n",
       "      <td>NaN</td>\n",
       "      <td>NaN</td>\n",
       "      <td>Yarra</td>\n",
       "      <td>-37.7996</td>\n",
       "      <td>144.9984</td>\n",
       "      <td>Northern Metropolitan</td>\n",
       "      <td>4019.0</td>\n",
       "    </tr>\n",
       "    <tr>\n",
       "      <th>1</th>\n",
       "      <td>Abbotsford</td>\n",
       "      <td>25 Bloomburg St</td>\n",
       "      <td>2</td>\n",
       "      <td>h</td>\n",
       "      <td>1035000.0</td>\n",
       "      <td>S</td>\n",
       "      <td>Biggin</td>\n",
       "      <td>4/02/2016</td>\n",
       "      <td>2.5</td>\n",
       "      <td>3067.0</td>\n",
       "      <td>...</td>\n",
       "      <td>1.0</td>\n",
       "      <td>0.0</td>\n",
       "      <td>156.0</td>\n",
       "      <td>79.0</td>\n",
       "      <td>1900.0</td>\n",
       "      <td>Yarra</td>\n",
       "      <td>-37.8079</td>\n",
       "      <td>144.9934</td>\n",
       "      <td>Northern Metropolitan</td>\n",
       "      <td>4019.0</td>\n",
       "    </tr>\n",
       "    <tr>\n",
       "      <th>2</th>\n",
       "      <td>Abbotsford</td>\n",
       "      <td>5 Charles St</td>\n",
       "      <td>3</td>\n",
       "      <td>h</td>\n",
       "      <td>1465000.0</td>\n",
       "      <td>SP</td>\n",
       "      <td>Biggin</td>\n",
       "      <td>4/03/2017</td>\n",
       "      <td>2.5</td>\n",
       "      <td>3067.0</td>\n",
       "      <td>...</td>\n",
       "      <td>2.0</td>\n",
       "      <td>0.0</td>\n",
       "      <td>134.0</td>\n",
       "      <td>150.0</td>\n",
       "      <td>1900.0</td>\n",
       "      <td>Yarra</td>\n",
       "      <td>-37.8093</td>\n",
       "      <td>144.9944</td>\n",
       "      <td>Northern Metropolitan</td>\n",
       "      <td>4019.0</td>\n",
       "    </tr>\n",
       "    <tr>\n",
       "      <th>3</th>\n",
       "      <td>Abbotsford</td>\n",
       "      <td>40 Federation La</td>\n",
       "      <td>3</td>\n",
       "      <td>h</td>\n",
       "      <td>850000.0</td>\n",
       "      <td>PI</td>\n",
       "      <td>Biggin</td>\n",
       "      <td>4/03/2017</td>\n",
       "      <td>2.5</td>\n",
       "      <td>3067.0</td>\n",
       "      <td>...</td>\n",
       "      <td>2.0</td>\n",
       "      <td>1.0</td>\n",
       "      <td>94.0</td>\n",
       "      <td>NaN</td>\n",
       "      <td>NaN</td>\n",
       "      <td>Yarra</td>\n",
       "      <td>-37.7969</td>\n",
       "      <td>144.9969</td>\n",
       "      <td>Northern Metropolitan</td>\n",
       "      <td>4019.0</td>\n",
       "    </tr>\n",
       "    <tr>\n",
       "      <th>4</th>\n",
       "      <td>Abbotsford</td>\n",
       "      <td>55a Park St</td>\n",
       "      <td>4</td>\n",
       "      <td>h</td>\n",
       "      <td>1600000.0</td>\n",
       "      <td>VB</td>\n",
       "      <td>Nelson</td>\n",
       "      <td>4/06/2016</td>\n",
       "      <td>2.5</td>\n",
       "      <td>3067.0</td>\n",
       "      <td>...</td>\n",
       "      <td>1.0</td>\n",
       "      <td>2.0</td>\n",
       "      <td>120.0</td>\n",
       "      <td>142.0</td>\n",
       "      <td>2014.0</td>\n",
       "      <td>Yarra</td>\n",
       "      <td>-37.8072</td>\n",
       "      <td>144.9941</td>\n",
       "      <td>Northern Metropolitan</td>\n",
       "      <td>4019.0</td>\n",
       "    </tr>\n",
       "  </tbody>\n",
       "</table>\n",
       "<p>5 rows × 21 columns</p>\n",
       "</div>"
      ],
      "text/plain": [
       "       Suburb           Address  Rooms Type      Price Method SellerG  \\\n",
       "0  Abbotsford      85 Turner St      2    h  1480000.0      S  Biggin   \n",
       "1  Abbotsford   25 Bloomburg St      2    h  1035000.0      S  Biggin   \n",
       "2  Abbotsford      5 Charles St      3    h  1465000.0     SP  Biggin   \n",
       "3  Abbotsford  40 Federation La      3    h   850000.0     PI  Biggin   \n",
       "4  Abbotsford       55a Park St      4    h  1600000.0     VB  Nelson   \n",
       "\n",
       "        Date  Distance  Postcode  ...  Bathroom  Car  Landsize  BuildingArea  \\\n",
       "0  3/12/2016       2.5    3067.0  ...       1.0  1.0     202.0           NaN   \n",
       "1  4/02/2016       2.5    3067.0  ...       1.0  0.0     156.0          79.0   \n",
       "2  4/03/2017       2.5    3067.0  ...       2.0  0.0     134.0         150.0   \n",
       "3  4/03/2017       2.5    3067.0  ...       2.0  1.0      94.0           NaN   \n",
       "4  4/06/2016       2.5    3067.0  ...       1.0  2.0     120.0         142.0   \n",
       "\n",
       "   YearBuilt  CouncilArea Lattitude  Longtitude             Regionname  \\\n",
       "0        NaN        Yarra  -37.7996    144.9984  Northern Metropolitan   \n",
       "1     1900.0        Yarra  -37.8079    144.9934  Northern Metropolitan   \n",
       "2     1900.0        Yarra  -37.8093    144.9944  Northern Metropolitan   \n",
       "3        NaN        Yarra  -37.7969    144.9969  Northern Metropolitan   \n",
       "4     2014.0        Yarra  -37.8072    144.9941  Northern Metropolitan   \n",
       "\n",
       "  Propertycount  \n",
       "0        4019.0  \n",
       "1        4019.0  \n",
       "2        4019.0  \n",
       "3        4019.0  \n",
       "4        4019.0  \n",
       "\n",
       "[5 rows x 21 columns]"
      ]
     },
     "execution_count": 3,
     "metadata": {},
     "output_type": "execute_result"
    }
   ],
   "source": [
    "property_data.head()"
   ]
  },
  {
   "cell_type": "code",
   "execution_count": 4,
   "id": "10ef7a9e",
   "metadata": {},
   "outputs": [
    {
     "name": "stdout",
     "output_type": "stream",
     "text": [
      "Failed to reject the null hypothesis. The typical property price in Altona is not significantly different from $800,000.\n"
     ]
    }
   ],
   "source": [
    "# Ans-1\n",
    "altona_properties = property_data[property_data['Suburb'] == 'Altona']\n",
    "altona_prices = altona_properties['Price']\n",
    "\n",
    "assumed_price = 800000\n",
    "\n",
    "t_statistic, p_value = stats.ttest_1samp(altona_prices, assumed_price, nan_policy='omit')\n",
    "\n",
    "alpha = 0.05\n",
    "\n",
    "if p_value < alpha:\n",
    "    print(\"Null hypothesis rejected. The typical property price in Altona has likely changed from $800,000.\")\n",
    "else:\n",
    "    print(\"Failed to reject the null hypothesis. The typical property price in Altona is not significantly different from $800,000.\")\n"
   ]
  },
  {
   "cell_type": "markdown",
   "id": "2e673e87",
   "metadata": {},
   "source": [
    "### Steps\n",
    "* Filtering Data - Select properties which are located in Altona from the dataset\n",
    "* Extracting Prices - Gathering property prices for Altona property\n",
    "* Assumed Prices - Assuming typical propert price(800000 in dollars) for comparision\n",
    "* T-test: Performs a one-sample t-test to compare Altona property prices to the assumed price.\n",
    "* Significance Level - Sets a threshold of 0.05 for determining significant differences.\n",
    "* Hypothesis Test Result- Determines if the observed property prices in Altona significantly differ from the assumed 800,000 in dollars - If p-value < 0.05: Rejects the null hypothesis, suggesting a likely change in Altona property prices. If p-value > 0.05: Fails to reject the null hypothesis, indicating no significant difference from the assumed price."
   ]
  },
  {
   "cell_type": "markdown",
   "id": "55fac1cd",
   "metadata": {},
   "source": [
    "### Conclusion\n",
    "The study shows that the average price of homes in Altona is quite different from what was expected, which was $800,000. This difference is significant, meaning it's not just due to chance. So, it suggests that the average price of homes in Altona has probably changed"
   ]
  },
  {
   "cell_type": "code",
   "execution_count": 5,
   "id": "e941e6af",
   "metadata": {},
   "outputs": [
    {
     "name": "stdout",
     "output_type": "stream",
     "text": [
      "There is a significant difference in property prices between summer and winter months in 2016.\n"
     ]
    }
   ],
   "source": [
    "# Ans-2\n",
    "property_data_2016 = property_data[property_data['Date'].str[-4:] == '2016']\n",
    "\n",
    "summer_months = ['04', '05', '06', '07', '08', '09']\n",
    "winter_months = ['10', '11', '12', '01', '02', '03']\n",
    "\n",
    "summer_sales = property_data_2016[property_data_2016['Date'].str[3:5].isin(summer_months)]\n",
    "winter_sales = property_data_2016[property_data_2016['Date'].str[3:5].isin(winter_months)]\n",
    "\n",
    "summer_prices = summer_sales['Price']\n",
    "winter_prices = winter_sales['Price']\n",
    "\n",
    "t_statistic, p_value = stats.ttest_ind(summer_prices, winter_prices, equal_var=False)\n",
    "\n",
    "alpha = 0.05\n",
    "\n",
    "if p_value < alpha:\n",
    "    print(\"There is a significant difference in property prices between summer and winter months in 2016.\")\n",
    "else:\n",
    "    print(\"There is no significant difference in property prices between summer and winter months in 2016.\")\n"
   ]
  },
  {
   "cell_type": "markdown",
   "id": "225c6862",
   "metadata": {},
   "source": [
    "### Steps\n",
    "* Filtering 2016 Data: We're looking specifically at information about houses sold in the year 2016.\n",
    "* Defining Seasons: We're dividing the months into two groups—summer, which includes April to September, and winter, which includes October to March.\n",
    "* Filtering Summer and Winter Data: We're separating the information about houses sold during the summer and winter months of 2016.\n",
    "* Extracting Prices: We're collecting the prices of these houses for both the summer and winter sales.\n",
    "* Statistical Test: We're using a statistical test called a t-test to compare the prices of houses between the summer and winter months.\n",
    "* Significance Check: We're checking if the difference in prices we observe between summer and winter is big enough that it's probably not just due to chance. We do this by comparing a number (p-value) to a standard level of 5%. If the p-value is less than 5%, we consider the difference in prices significant."
   ]
  },
  {
   "cell_type": "markdown",
   "id": "25d36a3c",
   "metadata": {},
   "source": [
    "### Conclusion\n",
    "When we compared the prices of houses sold in the summer (April to September) and winter months (October to March) of 2016, we didn't find a big enough difference to say it's significant. In other words, the prices during these seasons in 2016 seemed pretty similar based on our analysis at a 5% significance level. So, to put it simply, the prices of houses sold in the summer months of 2016 were statistically similar to those sold in the winter months of the same year. This suggests that, according to our data and analysis, there wasn't a noticeable difference in property prices between these seasons in 2016."
   ]
  },
  {
   "cell_type": "code",
   "execution_count": null,
   "id": "1cafb491",
   "metadata": {},
   "outputs": [],
   "source": [
    "\n"
   ]
  },
  {
   "cell_type": "code",
   "execution_count": 6,
   "id": "97bce086",
   "metadata": {},
   "outputs": [
    {
     "data": {
      "text/plain": [
       "0.26"
      ]
     },
     "execution_count": 6,
     "metadata": {},
     "output_type": "execute_result"
    }
   ],
   "source": [
    "#Ans-3\n",
    "abbotsford_properties = property_data[property_data['Suburb'] == 'Abbotsford']\n",
    "\n",
    "# Calculate the probability of a property not having car parking in Abbotsford\n",
    "total_properties = len(abbotsford_properties)\n",
    "properties_without_car = len(abbotsford_properties[abbotsford_properties['Car'].isnull() | (abbotsford_properties['Car'] == 0)])\n",
    "\n",
    "# Probability of a property not having car parking\n",
    "p = properties_without_car / total_properties\n",
    "\n",
    "# Number of trials\n",
    "n = 10\n",
    "\n",
    "# Number of successes\n",
    "k = 3\n",
    "\n",
    "# Calculate the probability using the binomial distribution formula\n",
    "probability = stats.binom.pmf(k, n, p)\n",
    "\n",
    "# Round off the answer to 3 decimal places\n",
    "probability = round(probability, 3)\n",
    "probability  # Output the calculated probability\n"
   ]
  },
  {
   "cell_type": "markdown",
   "id": "bd06c794",
   "metadata": {},
   "source": [
    "### Steps\n",
    "* Filtering data : we are looking out the property in the suburb Abbotsford, which does not have a car parking.\n",
    "* Counting Total Properties in Abbotsford: We're figuring out how many properties there are in total in the Abbotsford suburb.\n",
    "* Counting Properties in Abbotsford without parking: Among all the properties in Abbotsford, we're finding out how many of them are without parking.\n",
    "* Calculating Probability: We're doing some math to figure out the likelihood (probability) of finding a property without parking in Abbotsford. We do this by dividing the number of properties without parking by the total number of properties in Abbotsford.\n",
    "* Rounding Off: We're simplifying the probability number we found to make it easier to understand. We're rounding it to three decimal places for clarity and readability."
   ]
  },
  {
   "cell_type": "markdown",
   "id": "c9783413",
   "metadata": {},
   "source": [
    "### Conclusion\n",
    "The chance of finding properties without parking is 0.26. It means only few of the properties in Abbotsford does not have a car parking and rest of them have."
   ]
  },
  {
   "cell_type": "code",
   "execution_count": 7,
   "id": "e4cc5b68",
   "metadata": {},
   "outputs": [
    {
     "data": {
      "text/plain": [
       "0.357"
      ]
     },
     "execution_count": 7,
     "metadata": {},
     "output_type": "execute_result"
    }
   ],
   "source": [
    "# Ans-4\n",
    "# Filter data for properties sold in Abbotsford with 3 rooms\n",
    "abbotsford_3_rooms = property_data[(property_data['Suburb'] == 'Abbotsford') & (property_data['Rooms'] == 3)]\n",
    "\n",
    "# Total properties in Abbotsford\n",
    "total_properties_abbotsford = len(property_data[property_data['Suburb'] == 'Abbotsford'])\n",
    "\n",
    "# Total properties in Abbotsford with 3 rooms\n",
    "properties_3_rooms = len(abbotsford_3_rooms)\n",
    "\n",
    "# Probability of finding a property with 3 rooms in Abbotsford\n",
    "probability_3_rooms = properties_3_rooms / total_properties_abbotsford\n",
    "\n",
    "# Round off the answer to 3 decimal places\n",
    "probability_3_rooms = round(probability_3_rooms, 3)\n",
    "probability_3_rooms  # Output the calculated probability\n"
   ]
  },
  {
   "cell_type": "markdown",
   "id": "4129a450",
   "metadata": {},
   "source": [
    "### Steps\n",
    "* Data Filtering: We're picking out houses in the Abbotsford suburb that specifically have exactly 3 rooms. We're looking at a column that tells us how many rooms each property has.\n",
    "* Counting Total Properties in Abbotsford: We're figuring out how many properties there are in total in the Abbotsford suburb.\n",
    "* Counting Properties in Abbotsford with 3 Rooms: Among all the properties in Abbotsford, we're finding out how many of them have precisely 3 rooms.\n",
    "* Calculating Probability: We're doing some math to figure out the likelihood (probability) of finding a property with 3 rooms in Abbotsford. We do this by dividing the number of properties with 3 rooms by the total number of properties in Abbotsford.\n",
    "* Rounding Off: We're simplifying the probability number we found to make it easier to understand. We're rounding it to three decimal places for clarity and readability."
   ]
  },
  {
   "cell_type": "markdown",
   "id": "2a529978",
   "metadata": {},
   "source": [
    "### Conclusion\n",
    "The chance of finding houses with exactly 3 rooms in Abbotsford is about 0.357, which means there's a good number of these kinds of properties available. This is great news for people looking to buy or invest in Abbotsford because it shows that there are various options for homes with 3 rooms. In simpler terms, Abbotsford provides a pretty high probability of finding houses with 3 rooms, giving buyers and investors a lot of choices to suit different housing needs."
   ]
  },
  {
   "cell_type": "code",
   "execution_count": 8,
   "id": "47573303",
   "metadata": {},
   "outputs": [
    {
     "data": {
      "text/plain": [
       "0.339"
      ]
     },
     "execution_count": 8,
     "metadata": {},
     "output_type": "execute_result"
    }
   ],
   "source": [
    "# Ans-5\n",
    "# Filter data for properties sold in Abbotsford with 2 bathrooms\n",
    "abbotsford_2_bathrooms = property_data[(property_data['Suburb'] == 'Abbotsford') & (property_data['Bathroom'] == 2)]\n",
    "\n",
    "# Total properties in Abbotsford\n",
    "total_properties_abbotsford = len(property_data[property_data['Suburb'] == 'Abbotsford'])\n",
    "\n",
    "# Total properties in Abbotsford with 2 bathrooms\n",
    "properties_2_bathrooms = len(abbotsford_2_bathrooms)\n",
    "\n",
    "# Probability of finding a property with 2 bathrooms in Abbotsford\n",
    "probability_2_bathrooms = properties_2_bathrooms / total_properties_abbotsford\n",
    "\n",
    "# Round off the answer to 3 decimal places\n",
    "probability_2_bathrooms = round(probability_2_bathrooms, 3)\n",
    "probability_2_bathrooms  # Output the calculated probability"
   ]
  },
  {
   "cell_type": "markdown",
   "id": "4d8d76f7",
   "metadata": {},
   "source": [
    "### Steps\n",
    "* Filtering for Abbotsford: We're focusing on houses only in the Abbotsford suburb, sorting out the data.\n",
    "* Filtering for 2 Bathrooms: Among the Abbotsford properties, we're specifically looking at those with exactly 2 bathrooms.\n",
    "* Counting Properties: We're figuring out two things: the total number of properties in Abbotsford and the number of properties in Abbotsford with 2 bathrooms.\n",
    "* Calculating Probability: We're doing some math to find out the likelihood (probability) of stumbling upon a property with 2 bathrooms in Abbotsford. We do this by dividing the number of properties with 2 bathrooms by the total number of properties in Abbotsford.\n",
    "* Rounding Off: To make the number easier to understand, we're rounding the calculated probability to three decimal places.\n",
    "* Output: Finally, we're showing the resulting probability, giving an idea of how probable it is to find a property with 2 bathrooms in Abbotsford."
   ]
  },
  {
   "cell_type": "markdown",
   "id": "442525fe",
   "metadata": {},
   "source": [
    "### Conclusion \n",
    "After looking at the data for houses in Abbotsford, it turns out there's about a 33.9% chance (or probability of 0.339) of finding a house with exactly 2 bathrooms in that neighborhood. This tells us that a good chunk of the available properties in Abbotsford are probably homes with precisely 2 bathrooms. This info is handy for people thinking about buying a home or interested in real estate in Abbotsford, as it gives them an idea of what kind of properties are likely to be available in terms of bathroom count."
   ]
  },
  {
   "cell_type": "code",
   "execution_count": null,
   "id": "5c923d6b",
   "metadata": {},
   "outputs": [],
   "source": []
  }
 ],
 "metadata": {
  "kernelspec": {
   "display_name": "Python 3 (ipykernel)",
   "language": "python",
   "name": "python3"
  },
  "language_info": {
   "codemirror_mode": {
    "name": "ipython",
    "version": 3
   },
   "file_extension": ".py",
   "mimetype": "text/x-python",
   "name": "python",
   "nbconvert_exporter": "python",
   "pygments_lexer": "ipython3",
   "version": "3.11.4"
  }
 },
 "nbformat": 4,
 "nbformat_minor": 5
}
